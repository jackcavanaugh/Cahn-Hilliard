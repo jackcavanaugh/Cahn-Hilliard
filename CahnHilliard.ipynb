{
 "cells": [
  {
   "cell_type": "markdown",
   "metadata": {},
   "source": [
    "# Cahn-Hilliard Equation Simulation in Python\n",
    "\n",
    "This notebook simulates the Cahn-Hilliard equation in two dimensions. \n",
    "\n",
    "First, we'll set-up imports, model parameters, and folder for saving results. "
   ]
  },
  {
   "cell_type": "code",
   "execution_count": 5,
   "metadata": {},
   "outputs": [],
   "source": [
    "import numpy as np\n",
    "import matplotlib.pyplot as plt\n",
    "import os\n",
    "import time\n",
    "from scipy.io import savemat\n",
    "\n",
    "# System parameters\n",
    "delta = 10  # nm\n",
    "sigma = 1.0e-19  # J/nm^2\n",
    "A = 3 * sigma / delta  # J/nm^3, Height of the barrier between two energy wells\n",
    "K = delta**2 * A # J/nm\n",
    "A = A * 10  # Need for speed?\n",
    "D = 1e9  # nm^2/s\n",
    "\n",
    "# Since d2fdphi2 = 2*A, the mobility M is constant\n",
    "M = D / (2 * A)\n",
    "\n",
    "# Time and simulation settings\n",
    "dT = 1e-12\n",
    "steps = int(1e3)\n",
    "save_interval = steps/10\n",
    "\n",
    "# Mesh grid\n",
    "h = 1  # spacing, nm\n",
    "N = 200  # Mesh size\n",
    "\n",
    "# Create output directory based on current time\n",
    "dir_name = time.strftime('%H-%M-%S')\n",
    "if not os.path.exists(dir_name):\n",
    "    os.makedirs(dir_name)"
   ]
  },
  {
   "cell_type": "markdown",
   "metadata": {},
   "source": [
    "### Define Cahn-Hilliard equation"
   ]
  },
  {
   "cell_type": "code",
   "execution_count": 6,
   "metadata": {},
   "outputs": [],
   "source": [
    "# Define the Laplacian using periodic boundary conditions\n",
    "def laplacian(u, h):\n",
    "    return (np.roll(u, 1, axis=0) + np.roll(u, -1, axis=0) +\n",
    "            np.roll(u, 1, axis=1) + np.roll(u, -1, axis=1) - 4*u) / h**2"
   ]
  },
  {
   "cell_type": "markdown",
   "metadata": {},
   "source": [
    "## Experiment 1 \n",
    "\n",
    "### Initial Condition"
   ]
  },
  {
   "cell_type": "code",
   "execution_count": 7,
   "metadata": {},
   "outputs": [],
   "source": [
    "# Initial Condition\n",
    "# phi = np.full((N, N), 0.1)\n",
    "# phi(:,end/2+1:end,1) = 1; % Block of A and Block of B\n",
    "phi = 0.5 - np.random.rand(N, N)\n",
    "\n",
    "# savemat(os.path.join(dir_name, f't_0_{steps}Steps.mat'), {'phi': phi})\n",
    "\n",
    "phi_max = np.max(phi)\n",
    "phi_min = np.min(phi)\n",
    "\n",
    "plt.figure()\n",
    "plt.imshow(phi, origin='lower', cmap='viridis', vmin=phi_min, vmax=phi_max)\n",
    "plt.title(f't = 0')\n",
    "plt.colorbar()\n",
    "plot_filename = os.path.join(dir_name, f't_0_{steps}Steps.png')\n",
    "plt.savefig(plot_filename)\n",
    "plt.close()"
   ]
  },
  {
   "cell_type": "markdown",
   "metadata": {},
   "source": [
    "### Numerical Simulation"
   ]
  },
  {
   "cell_type": "code",
   "execution_count": 8,
   "metadata": {},
   "outputs": [
    {
     "name": "stdout",
     "output_type": "stream",
     "text": [
      "Simulation complete. Results saved in directory: 23-53-55\n"
     ]
    }
   ],
   "source": [
    "t_index = 0\n",
    "volume_fraction = np.zeros(steps) \n",
    "interfacial_area = np.zeros(steps) \n",
    "\n",
    "# ----------------------\n",
    "# Simulation Loop\n",
    "# ----------------------\n",
    "for step in range(steps):\n",
    "    # Compute derivative of free energy\n",
    "    dfdphi = A * (4 * phi**3 - 6 * phi**2 + 2 * phi)\n",
    "    \n",
    "    # Compute Laplacian of phi\n",
    "    del2phi = laplacian(phi, h)\n",
    "    \n",
    "    # Compute the chemical potential term\n",
    "    chemical_potential = dfdphi - 2 * K * del2phi\n",
    "    \n",
    "    # Compute the right-hand side\n",
    "    RHS = M * laplacian(chemical_potential, h)\n",
    "    \n",
    "    # Update phi\n",
    "    phi = phi + dT * RHS\n",
    "    \n",
    "    # Record volume fraction and interfacial area\n",
    "    volume_fraction[t_index] = np.sum(phi > 0.7) / (N**2)\n",
    "    interfacial_area[t_index] = np.sum(np.logical_and(phi > 0.3, phi < 0.7))\n",
    "    \n",
    "    # Save condition and plot every save_interval steps\n",
    "    if (step + 1) % save_interval == 0:\n",
    "        plt.figure()\n",
    "        plt.imshow(phi, origin='lower', cmap='viridis', vmin=phi_min, vmax=phi_max)\n",
    "        plt.title(f't = {step+1}e-12')\n",
    "        plt.colorbar()\n",
    "        plot_filename = os.path.join(dir_name, f't_{step+1}e-12_{steps}Steps.png')\n",
    "        plt.savefig(plot_filename)\n",
    "        plt.close()\n",
    "\n",
    "        #savemat(os.path.join(dir_name, f't_{step+1}e-12_{steps}Steps.mat'), {'phi': phi})\n",
    "        #savemat(os.path.join(dir_name, f't_{step+1}e-12_VolFrac_{steps}Steps.mat'), {'volume_fraction': volume_fraction[:t_index+1]})\n",
    "        #savemat(os.path.join(dir_name, f't_{step+1}e-12_IntArea_{steps}Steps.mat'), {'interfacial_area': interfacial_area[:t_index+1]})\n",
    "    \n",
    "    t_index += 1\n",
    "\n",
    "# Save final condition and plot if not already saved per 1e4 rule in loop\n",
    "if (step + 1) % save_interval != 0:\n",
    "    plt.figure()\n",
    "    plt.imshow(phi, origin='lower', cmap='viridis', vmin=phi_min, vmax=phi_max)\n",
    "    plt.title(f't = {steps}e-12 (Final)')\n",
    "    plt.colorbar()\n",
    "    plt.savefig(os.path.join(dir_name, f'Beta_{Beta}_Final_{steps}Steps.png'))\n",
    "    plt.close()\n",
    "    \n",
    "    savemat(os.path.join(dir_name, f't_{step+1}e-12_{steps}Steps.mat'), {'phi': phi})\n",
    "    #savemat(os.path.join(dir_name, f't_{step+1}e-12_VolFrac_{steps}Steps.mat'), {'volume_fraction': volume_fraction[:t_index+1]})\n",
    "    #savemat(os.path.join(dir_name, f't_{step+1}e-12_IntArea_{steps}Steps.mat'), {'interfacial_area': interfacial_area[:t_index+1]})\n",
    "\n",
    "print('Simulation complete. Results saved in directory:', dir_name)"
   ]
  },
  {
   "cell_type": "code",
   "execution_count": null,
   "metadata": {},
   "outputs": [],
   "source": []
  }
 ],
 "metadata": {
  "colab": {
   "name": "CahnHilliard_Simulation.ipynb",
   "provenance": []
  },
  "kernelspec": {
   "display_name": "Python 3",
   "language": "python",
   "name": "python3"
  },
  "language_info": {
   "codemirror_mode": {
    "name": "ipython",
    "version": 3
   },
   "file_extension": ".py",
   "mimetype": "text/x-python",
   "name": "python",
   "nbconvert_exporter": "python",
   "pygments_lexer": "ipython3",
   "version": "3.8.16"
  }
 },
 "nbformat": 4,
 "nbformat_minor": 0
}
